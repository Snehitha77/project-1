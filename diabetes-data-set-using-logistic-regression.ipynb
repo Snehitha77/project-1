{
 "cells": [
  {
   "cell_type": "code",
   "execution_count": 47,
   "id": "c819f44b",
   "metadata": {
    "_cell_guid": "b1076dfc-b9ad-4769-8c92-a6c4dae69d19",
    "_uuid": "8f2839f25d086af736a60e9eeb907d3b93b6e0e5",
    "execution": {
     "iopub.execute_input": "2023-02-19T14:33:07.871914Z",
     "iopub.status.busy": "2023-02-19T14:33:07.871450Z",
     "iopub.status.idle": "2023-02-19T14:33:07.890651Z",
     "shell.execute_reply": "2023-02-19T14:33:07.889275Z"
    },
    "papermill": {
     "duration": 0.033183,
     "end_time": "2023-02-19T14:33:07.893643",
     "exception": false,
     "start_time": "2023-02-19T14:33:07.860460",
     "status": "completed"
    },
    "tags": []
   },
   "outputs": [
    {
     "name": "stdout",
     "output_type": "stream",
     "text": [
      "C:\\Users\\vanga\\Desktop\\ddp\\dataset\\diabetes.csv\n"
     ]
    }
   ],
   "source": [
    "\n",
    "\n",
    "import numpy as np \n",
    "import pandas as pd \n",
    "\n",
    "\n",
    "import os\n",
    "for dirname, _, filenames in os.walk(r'C:\\Users\\vanga\\Desktop\\ddp\\dataset'):\n",
    "    for filename in filenames:\n",
    "        print(os.path.join(dirname, filename))\n",
    "\n"
   ]
  },
  {
   "cell_type": "code",
   "execution_count": 48,
   "id": "5169e58b",
   "metadata": {
    "execution": {
     "iopub.execute_input": "2023-02-19T14:33:07.911724Z",
     "iopub.status.busy": "2023-02-19T14:33:07.911298Z",
     "iopub.status.idle": "2023-02-19T14:33:07.932433Z",
     "shell.execute_reply": "2023-02-19T14:33:07.931387Z"
    },
    "papermill": {
     "duration": 0.033196,
     "end_time": "2023-02-19T14:33:07.935077",
     "exception": false,
     "start_time": "2023-02-19T14:33:07.901881",
     "status": "completed"
    },
    "tags": []
   },
   "outputs": [],
   "source": [
    "df = pd.read_csv(r'C:\\Users\\vanga\\Desktop\\ddp\\dataset\\diabetes.csv')"
   ]
  },
  {
   "cell_type": "code",
   "execution_count": 49,
   "id": "6fd674a2",
   "metadata": {
    "execution": {
     "iopub.execute_input": "2023-02-19T14:33:07.953186Z",
     "iopub.status.busy": "2023-02-19T14:33:07.952756Z",
     "iopub.status.idle": "2023-02-19T14:33:07.975657Z",
     "shell.execute_reply": "2023-02-19T14:33:07.974332Z"
    },
    "papermill": {
     "duration": 0.034982,
     "end_time": "2023-02-19T14:33:07.978248",
     "exception": false,
     "start_time": "2023-02-19T14:33:07.943266",
     "status": "completed"
    },
    "tags": []
   },
   "outputs": [
    {
     "data": {
      "text/html": [
       "<div>\n",
       "<style scoped>\n",
       "    .dataframe tbody tr th:only-of-type {\n",
       "        vertical-align: middle;\n",
       "    }\n",
       "\n",
       "    .dataframe tbody tr th {\n",
       "        vertical-align: top;\n",
       "    }\n",
       "\n",
       "    .dataframe thead th {\n",
       "        text-align: right;\n",
       "    }\n",
       "</style>\n",
       "<table border=\"1\" class=\"dataframe\">\n",
       "  <thead>\n",
       "    <tr style=\"text-align: right;\">\n",
       "      <th></th>\n",
       "      <th>Pregnancies</th>\n",
       "      <th>Glucose</th>\n",
       "      <th>BloodPressure</th>\n",
       "      <th>SkinThickness</th>\n",
       "      <th>Insulin</th>\n",
       "      <th>BMI</th>\n",
       "      <th>DiabetesPedigreeFunction</th>\n",
       "      <th>Age</th>\n",
       "      <th>Outcome</th>\n",
       "    </tr>\n",
       "  </thead>\n",
       "  <tbody>\n",
       "    <tr>\n",
       "      <th>0</th>\n",
       "      <td>6</td>\n",
       "      <td>148</td>\n",
       "      <td>72</td>\n",
       "      <td>35</td>\n",
       "      <td>0</td>\n",
       "      <td>33.6</td>\n",
       "      <td>0.627</td>\n",
       "      <td>50</td>\n",
       "      <td>1</td>\n",
       "    </tr>\n",
       "    <tr>\n",
       "      <th>1</th>\n",
       "      <td>1</td>\n",
       "      <td>85</td>\n",
       "      <td>66</td>\n",
       "      <td>29</td>\n",
       "      <td>0</td>\n",
       "      <td>26.6</td>\n",
       "      <td>0.351</td>\n",
       "      <td>31</td>\n",
       "      <td>0</td>\n",
       "    </tr>\n",
       "  </tbody>\n",
       "</table>\n",
       "</div>"
      ],
      "text/plain": [
       "   Pregnancies  Glucose  BloodPressure  SkinThickness  Insulin   BMI  \\\n",
       "0            6      148             72             35        0  33.6   \n",
       "1            1       85             66             29        0  26.6   \n",
       "\n",
       "   DiabetesPedigreeFunction  Age  Outcome  \n",
       "0                     0.627   50        1  \n",
       "1                     0.351   31        0  "
      ]
     },
     "execution_count": 49,
     "metadata": {},
     "output_type": "execute_result"
    }
   ],
   "source": [
    "df.head(2)"
   ]
  },
  {
   "cell_type": "code",
   "execution_count": 50,
   "id": "6771bdf8",
   "metadata": {
    "execution": {
     "iopub.execute_input": "2023-02-19T14:33:07.996844Z",
     "iopub.status.busy": "2023-02-19T14:33:07.996404Z",
     "iopub.status.idle": "2023-02-19T14:33:08.022649Z",
     "shell.execute_reply": "2023-02-19T14:33:08.021249Z"
    },
    "papermill": {
     "duration": 0.0389,
     "end_time": "2023-02-19T14:33:08.025588",
     "exception": false,
     "start_time": "2023-02-19T14:33:07.986688",
     "status": "completed"
    },
    "tags": []
   },
   "outputs": [
    {
     "name": "stdout",
     "output_type": "stream",
     "text": [
      "<class 'pandas.core.frame.DataFrame'>\n",
      "RangeIndex: 768 entries, 0 to 767\n",
      "Data columns (total 9 columns):\n",
      " #   Column                    Non-Null Count  Dtype  \n",
      "---  ------                    --------------  -----  \n",
      " 0   Pregnancies               768 non-null    int64  \n",
      " 1   Glucose                   768 non-null    int64  \n",
      " 2   BloodPressure             768 non-null    int64  \n",
      " 3   SkinThickness             768 non-null    int64  \n",
      " 4   Insulin                   768 non-null    int64  \n",
      " 5   BMI                       768 non-null    float64\n",
      " 6   DiabetesPedigreeFunction  768 non-null    float64\n",
      " 7   Age                       768 non-null    int64  \n",
      " 8   Outcome                   768 non-null    int64  \n",
      "dtypes: float64(2), int64(7)\n",
      "memory usage: 54.1 KB\n"
     ]
    }
   ],
   "source": [
    "df.info()"
   ]
  },
  {
   "cell_type": "code",
   "execution_count": 51,
   "id": "a9edc861",
   "metadata": {
    "execution": {
     "iopub.execute_input": "2023-02-19T14:33:08.044300Z",
     "iopub.status.busy": "2023-02-19T14:33:08.043837Z",
     "iopub.status.idle": "2023-02-19T14:33:08.090617Z",
     "shell.execute_reply": "2023-02-19T14:33:08.088273Z"
    },
    "papermill": {
     "duration": 0.060001,
     "end_time": "2023-02-19T14:33:08.094120",
     "exception": false,
     "start_time": "2023-02-19T14:33:08.034119",
     "status": "completed"
    },
    "tags": []
   },
   "outputs": [
    {
     "data": {
      "text/html": [
       "<div>\n",
       "<style scoped>\n",
       "    .dataframe tbody tr th:only-of-type {\n",
       "        vertical-align: middle;\n",
       "    }\n",
       "\n",
       "    .dataframe tbody tr th {\n",
       "        vertical-align: top;\n",
       "    }\n",
       "\n",
       "    .dataframe thead th {\n",
       "        text-align: right;\n",
       "    }\n",
       "</style>\n",
       "<table border=\"1\" class=\"dataframe\">\n",
       "  <thead>\n",
       "    <tr style=\"text-align: right;\">\n",
       "      <th></th>\n",
       "      <th>count</th>\n",
       "      <th>mean</th>\n",
       "      <th>std</th>\n",
       "      <th>min</th>\n",
       "      <th>25%</th>\n",
       "      <th>50%</th>\n",
       "      <th>75%</th>\n",
       "      <th>max</th>\n",
       "    </tr>\n",
       "  </thead>\n",
       "  <tbody>\n",
       "    <tr>\n",
       "      <th>Pregnancies</th>\n",
       "      <td>768.0</td>\n",
       "      <td>3.845052</td>\n",
       "      <td>3.369578</td>\n",
       "      <td>0.000</td>\n",
       "      <td>1.00000</td>\n",
       "      <td>3.0000</td>\n",
       "      <td>6.00000</td>\n",
       "      <td>17.00</td>\n",
       "    </tr>\n",
       "    <tr>\n",
       "      <th>Glucose</th>\n",
       "      <td>768.0</td>\n",
       "      <td>120.894531</td>\n",
       "      <td>31.972618</td>\n",
       "      <td>0.000</td>\n",
       "      <td>99.00000</td>\n",
       "      <td>117.0000</td>\n",
       "      <td>140.25000</td>\n",
       "      <td>199.00</td>\n",
       "    </tr>\n",
       "    <tr>\n",
       "      <th>BloodPressure</th>\n",
       "      <td>768.0</td>\n",
       "      <td>69.105469</td>\n",
       "      <td>19.355807</td>\n",
       "      <td>0.000</td>\n",
       "      <td>62.00000</td>\n",
       "      <td>72.0000</td>\n",
       "      <td>80.00000</td>\n",
       "      <td>122.00</td>\n",
       "    </tr>\n",
       "    <tr>\n",
       "      <th>SkinThickness</th>\n",
       "      <td>768.0</td>\n",
       "      <td>20.536458</td>\n",
       "      <td>15.952218</td>\n",
       "      <td>0.000</td>\n",
       "      <td>0.00000</td>\n",
       "      <td>23.0000</td>\n",
       "      <td>32.00000</td>\n",
       "      <td>99.00</td>\n",
       "    </tr>\n",
       "    <tr>\n",
       "      <th>Insulin</th>\n",
       "      <td>768.0</td>\n",
       "      <td>79.799479</td>\n",
       "      <td>115.244002</td>\n",
       "      <td>0.000</td>\n",
       "      <td>0.00000</td>\n",
       "      <td>30.5000</td>\n",
       "      <td>127.25000</td>\n",
       "      <td>846.00</td>\n",
       "    </tr>\n",
       "    <tr>\n",
       "      <th>BMI</th>\n",
       "      <td>768.0</td>\n",
       "      <td>31.992578</td>\n",
       "      <td>7.884160</td>\n",
       "      <td>0.000</td>\n",
       "      <td>27.30000</td>\n",
       "      <td>32.0000</td>\n",
       "      <td>36.60000</td>\n",
       "      <td>67.10</td>\n",
       "    </tr>\n",
       "    <tr>\n",
       "      <th>DiabetesPedigreeFunction</th>\n",
       "      <td>768.0</td>\n",
       "      <td>0.471876</td>\n",
       "      <td>0.331329</td>\n",
       "      <td>0.078</td>\n",
       "      <td>0.24375</td>\n",
       "      <td>0.3725</td>\n",
       "      <td>0.62625</td>\n",
       "      <td>2.42</td>\n",
       "    </tr>\n",
       "    <tr>\n",
       "      <th>Age</th>\n",
       "      <td>768.0</td>\n",
       "      <td>33.240885</td>\n",
       "      <td>11.760232</td>\n",
       "      <td>21.000</td>\n",
       "      <td>24.00000</td>\n",
       "      <td>29.0000</td>\n",
       "      <td>41.00000</td>\n",
       "      <td>81.00</td>\n",
       "    </tr>\n",
       "    <tr>\n",
       "      <th>Outcome</th>\n",
       "      <td>768.0</td>\n",
       "      <td>0.348958</td>\n",
       "      <td>0.476951</td>\n",
       "      <td>0.000</td>\n",
       "      <td>0.00000</td>\n",
       "      <td>0.0000</td>\n",
       "      <td>1.00000</td>\n",
       "      <td>1.00</td>\n",
       "    </tr>\n",
       "  </tbody>\n",
       "</table>\n",
       "</div>"
      ],
      "text/plain": [
       "                          count        mean         std     min       25%  \\\n",
       "Pregnancies               768.0    3.845052    3.369578   0.000   1.00000   \n",
       "Glucose                   768.0  120.894531   31.972618   0.000  99.00000   \n",
       "BloodPressure             768.0   69.105469   19.355807   0.000  62.00000   \n",
       "SkinThickness             768.0   20.536458   15.952218   0.000   0.00000   \n",
       "Insulin                   768.0   79.799479  115.244002   0.000   0.00000   \n",
       "BMI                       768.0   31.992578    7.884160   0.000  27.30000   \n",
       "DiabetesPedigreeFunction  768.0    0.471876    0.331329   0.078   0.24375   \n",
       "Age                       768.0   33.240885   11.760232  21.000  24.00000   \n",
       "Outcome                   768.0    0.348958    0.476951   0.000   0.00000   \n",
       "\n",
       "                               50%        75%     max  \n",
       "Pregnancies                 3.0000    6.00000   17.00  \n",
       "Glucose                   117.0000  140.25000  199.00  \n",
       "BloodPressure              72.0000   80.00000  122.00  \n",
       "SkinThickness              23.0000   32.00000   99.00  \n",
       "Insulin                    30.5000  127.25000  846.00  \n",
       "BMI                        32.0000   36.60000   67.10  \n",
       "DiabetesPedigreeFunction    0.3725    0.62625    2.42  \n",
       "Age                        29.0000   41.00000   81.00  \n",
       "Outcome                     0.0000    1.00000    1.00  "
      ]
     },
     "execution_count": 51,
     "metadata": {},
     "output_type": "execute_result"
    }
   ],
   "source": [
    "df.describe().T"
   ]
  },
  {
   "cell_type": "code",
   "execution_count": 52,
   "id": "e9650410",
   "metadata": {
    "execution": {
     "iopub.execute_input": "2023-02-19T14:33:08.115930Z",
     "iopub.status.busy": "2023-02-19T14:33:08.115184Z",
     "iopub.status.idle": "2023-02-19T14:33:08.124083Z",
     "shell.execute_reply": "2023-02-19T14:33:08.123045Z"
    },
    "papermill": {
     "duration": 0.022051,
     "end_time": "2023-02-19T14:33:08.126390",
     "exception": false,
     "start_time": "2023-02-19T14:33:08.104339",
     "status": "completed"
    },
    "tags": []
   },
   "outputs": [
    {
     "data": {
      "text/html": [
       "<div>\n",
       "<style scoped>\n",
       "    .dataframe tbody tr th:only-of-type {\n",
       "        vertical-align: middle;\n",
       "    }\n",
       "\n",
       "    .dataframe tbody tr th {\n",
       "        vertical-align: top;\n",
       "    }\n",
       "\n",
       "    .dataframe thead th {\n",
       "        text-align: right;\n",
       "    }\n",
       "</style>\n",
       "<table border=\"1\" class=\"dataframe\">\n",
       "  <thead>\n",
       "    <tr style=\"text-align: right;\">\n",
       "      <th></th>\n",
       "      <th>count</th>\n",
       "      <th>mean</th>\n",
       "      <th>std</th>\n",
       "      <th>min</th>\n",
       "      <th>25%</th>\n",
       "      <th>50%</th>\n",
       "      <th>75%</th>\n",
       "      <th>max</th>\n",
       "    </tr>\n",
       "  </thead>\n",
       "  <tbody>\n",
       "    <tr>\n",
       "      <th>Pregnancies</th>\n",
       "      <td>768.0</td>\n",
       "      <td>3.845052</td>\n",
       "      <td>3.369578</td>\n",
       "      <td>0.000</td>\n",
       "      <td>1.00000</td>\n",
       "      <td>3.0000</td>\n",
       "      <td>6.00000</td>\n",
       "      <td>17.00</td>\n",
       "    </tr>\n",
       "    <tr>\n",
       "      <th>Glucose</th>\n",
       "      <td>768.0</td>\n",
       "      <td>120.894531</td>\n",
       "      <td>31.972618</td>\n",
       "      <td>0.000</td>\n",
       "      <td>99.00000</td>\n",
       "      <td>117.0000</td>\n",
       "      <td>140.25000</td>\n",
       "      <td>199.00</td>\n",
       "    </tr>\n",
       "    <tr>\n",
       "      <th>BloodPressure</th>\n",
       "      <td>768.0</td>\n",
       "      <td>69.105469</td>\n",
       "      <td>19.355807</td>\n",
       "      <td>0.000</td>\n",
       "      <td>62.00000</td>\n",
       "      <td>72.0000</td>\n",
       "      <td>80.00000</td>\n",
       "      <td>122.00</td>\n",
       "    </tr>\n",
       "    <tr>\n",
       "      <th>SkinThickness</th>\n",
       "      <td>768.0</td>\n",
       "      <td>20.536458</td>\n",
       "      <td>15.952218</td>\n",
       "      <td>0.000</td>\n",
       "      <td>0.00000</td>\n",
       "      <td>23.0000</td>\n",
       "      <td>32.00000</td>\n",
       "      <td>99.00</td>\n",
       "    </tr>\n",
       "    <tr>\n",
       "      <th>Insulin</th>\n",
       "      <td>768.0</td>\n",
       "      <td>79.799479</td>\n",
       "      <td>115.244002</td>\n",
       "      <td>0.000</td>\n",
       "      <td>0.00000</td>\n",
       "      <td>30.5000</td>\n",
       "      <td>127.25000</td>\n",
       "      <td>846.00</td>\n",
       "    </tr>\n",
       "    <tr>\n",
       "      <th>BMI</th>\n",
       "      <td>768.0</td>\n",
       "      <td>31.992578</td>\n",
       "      <td>7.884160</td>\n",
       "      <td>0.000</td>\n",
       "      <td>27.30000</td>\n",
       "      <td>32.0000</td>\n",
       "      <td>36.60000</td>\n",
       "      <td>67.10</td>\n",
       "    </tr>\n",
       "    <tr>\n",
       "      <th>DiabetesPedigreeFunction</th>\n",
       "      <td>768.0</td>\n",
       "      <td>0.471876</td>\n",
       "      <td>0.331329</td>\n",
       "      <td>0.078</td>\n",
       "      <td>0.24375</td>\n",
       "      <td>0.3725</td>\n",
       "      <td>0.62625</td>\n",
       "      <td>2.42</td>\n",
       "    </tr>\n",
       "    <tr>\n",
       "      <th>Age</th>\n",
       "      <td>768.0</td>\n",
       "      <td>33.240885</td>\n",
       "      <td>11.760232</td>\n",
       "      <td>21.000</td>\n",
       "      <td>24.00000</td>\n",
       "      <td>29.0000</td>\n",
       "      <td>41.00000</td>\n",
       "      <td>81.00</td>\n",
       "    </tr>\n",
       "    <tr>\n",
       "      <th>Outcome</th>\n",
       "      <td>768.0</td>\n",
       "      <td>0.348958</td>\n",
       "      <td>0.476951</td>\n",
       "      <td>0.000</td>\n",
       "      <td>0.00000</td>\n",
       "      <td>0.0000</td>\n",
       "      <td>1.00000</td>\n",
       "      <td>1.00</td>\n",
       "    </tr>\n",
       "  </tbody>\n",
       "</table>\n",
       "</div>"
      ],
      "text/plain": [
       "                          count        mean         std     min       25%  \\\n",
       "Pregnancies               768.0    3.845052    3.369578   0.000   1.00000   \n",
       "Glucose                   768.0  120.894531   31.972618   0.000  99.00000   \n",
       "BloodPressure             768.0   69.105469   19.355807   0.000  62.00000   \n",
       "SkinThickness             768.0   20.536458   15.952218   0.000   0.00000   \n",
       "Insulin                   768.0   79.799479  115.244002   0.000   0.00000   \n",
       "BMI                       768.0   31.992578    7.884160   0.000  27.30000   \n",
       "DiabetesPedigreeFunction  768.0    0.471876    0.331329   0.078   0.24375   \n",
       "Age                       768.0   33.240885   11.760232  21.000  24.00000   \n",
       "Outcome                   768.0    0.348958    0.476951   0.000   0.00000   \n",
       "\n",
       "                               50%        75%     max  \n",
       "Pregnancies                 3.0000    6.00000   17.00  \n",
       "Glucose                   117.0000  140.25000  199.00  \n",
       "BloodPressure              72.0000   80.00000  122.00  \n",
       "SkinThickness              23.0000   32.00000   99.00  \n",
       "Insulin                    30.5000  127.25000  846.00  \n",
       "BMI                        32.0000   36.60000   67.10  \n",
       "DiabetesPedigreeFunction    0.3725    0.62625    2.42  \n",
       "Age                        29.0000   41.00000   81.00  \n",
       "Outcome                     0.0000    1.00000    1.00  "
      ]
     },
     "execution_count": 52,
     "metadata": {},
     "output_type": "execute_result"
    }
   ],
   "source": [
    "df.describe().T"
   ]
  },
  {
   "cell_type": "code",
   "execution_count": 53,
   "id": "38b5ab21",
   "metadata": {
    "execution": {
     "iopub.execute_input": "2023-02-19T14:33:08.146134Z",
     "iopub.status.busy": "2023-02-19T14:33:08.145366Z",
     "iopub.status.idle": "2023-02-19T14:33:09.347846Z",
     "shell.execute_reply": "2023-02-19T14:33:09.346529Z"
    },
    "papermill": {
     "duration": 1.215565,
     "end_time": "2023-02-19T14:33:09.350812",
     "exception": false,
     "start_time": "2023-02-19T14:33:08.135247",
     "status": "completed"
    },
    "tags": []
   },
   "outputs": [],
   "source": [
    "import seaborn as sns"
   ]
  },
  {
   "cell_type": "code",
   "execution_count": 54,
   "id": "70d11ef3",
   "metadata": {
    "execution": {
     "iopub.execute_input": "2023-02-19T14:33:09.370335Z",
     "iopub.status.busy": "2023-02-19T14:33:09.369893Z",
     "iopub.status.idle": "2023-02-19T14:33:10.049782Z",
     "shell.execute_reply": "2023-02-19T14:33:10.048498Z"
    },
    "papermill": {
     "duration": 0.692429,
     "end_time": "2023-02-19T14:33:10.052242",
     "exception": false,
     "start_time": "2023-02-19T14:33:09.359813",
     "status": "completed"
    },
    "tags": []
   },
   "outputs": [
    {
     "data": {
      "image/png": "[encoded data removed]",
      "text/plain": [
       "<Figure size 640x480 with 2 Axes>"
      ]
     },
     "metadata": {},
     "output_type": "display_data"
    }
   ],
   "source": [
    "sns.heatmap(df.corr(),annot=True);"
   ]
  },
  {
   "cell_type": "code",
   "execution_count": 55,
   "id": "7af0f7be",
   "metadata": {
    "execution": {
     "iopub.execute_input": "2023-02-19T14:33:10.074078Z",
     "iopub.status.busy": "2023-02-19T14:33:10.073614Z",
     "iopub.status.idle": "2023-02-19T14:33:10.084519Z",
     "shell.execute_reply": "2023-02-19T14:33:10.083258Z"
    },
    "papermill": {
     "duration": 0.024965,
     "end_time": "2023-02-19T14:33:10.086916",
     "exception": false,
     "start_time": "2023-02-19T14:33:10.061951",
     "status": "completed"
    },
    "tags": []
   },
   "outputs": [
    {
     "data": {
      "text/plain": [
       "0    139\n",
       "1     88\n",
       "Name: Outcome, dtype: int64"
      ]
     },
     "execution_count": 55,
     "metadata": {},
     "output_type": "execute_result"
    }
   ],
   "source": [
    "df[df['SkinThickness']==0]['Outcome'].value_counts()"
   ]
  },
  {
   "cell_type": "code",
   "execution_count": 56,
   "id": "34a7e281",
   "metadata": {
    "execution": {
     "iopub.execute_input": "2023-02-19T14:33:10.111344Z",
     "iopub.status.busy": "2023-02-19T14:33:10.110479Z",
     "iopub.status.idle": "2023-02-19T14:33:10.130440Z",
     "shell.execute_reply": "2023-02-19T14:33:10.129297Z"
    },
    "papermill": {
     "duration": 0.034908,
     "end_time": "2023-02-19T14:33:10.133270",
     "exception": false,
     "start_time": "2023-02-19T14:33:10.098362",
     "status": "completed"
    },
    "tags": []
   },
   "outputs": [
    {
     "data": {
      "text/plain": [
       "SkinThickness  Outcome\n",
       "0              0          0.612335\n",
       "               1          0.387665\n",
       "7              0          0.500000\n",
       "               1          0.500000\n",
       "8              0          1.000000\n",
       "                            ...   \n",
       "54             0          1.000000\n",
       "56             1          1.000000\n",
       "60             0          1.000000\n",
       "63             1          1.000000\n",
       "99             1          1.000000\n",
       "Name: Outcome, Length: 89, dtype: float64"
      ]
     },
     "execution_count": 56,
     "metadata": {},
     "output_type": "execute_result"
    }
   ],
   "source": [
    "df.groupby(['SkinThickness'])['Outcome'].value_counts()/df.groupby(['SkinThickness'])['Outcome'].count()"
   ]
  },
  {
   "cell_type": "code",
   "execution_count": 57,
   "id": "cd5206ff",
   "metadata": {
    "execution": {
     "iopub.execute_input": "2023-02-19T14:33:10.155513Z",
     "iopub.status.busy": "2023-02-19T14:33:10.155024Z",
     "iopub.status.idle": "2023-02-19T14:33:10.163705Z",
     "shell.execute_reply": "2023-02-19T14:33:10.162692Z"
    },
    "papermill": {
     "duration": 0.022837,
     "end_time": "2023-02-19T14:33:10.166535",
     "exception": false,
     "start_time": "2023-02-19T14:33:10.143698",
     "status": "completed"
    },
    "tags": []
   },
   "outputs": [
    {
     "data": {
      "text/plain": [
       "Pregnancies                   int64\n",
       "Glucose                       int64\n",
       "BloodPressure                 int64\n",
       "SkinThickness                 int64\n",
       "Insulin                       int64\n",
       "BMI                         float64\n",
       "DiabetesPedigreeFunction    float64\n",
       "Age                           int64\n",
       "Outcome                       int64\n",
       "dtype: object"
      ]
     },
     "execution_count": 57,
     "metadata": {},
     "output_type": "execute_result"
    }
   ],
   "source": [
    "df.dtypes"
   ]
  },
  {
   "cell_type": "code",
   "execution_count": 58,
   "id": "8c9c7ead",
   "metadata": {
    "execution": {
     "iopub.execute_input": "2023-02-19T14:33:10.189757Z",
     "iopub.status.busy": "2023-02-19T14:33:10.189327Z",
     "iopub.status.idle": "2023-02-19T14:33:10.199653Z",
     "shell.execute_reply": "2023-02-19T14:33:10.198763Z"
    },
    "papermill": {
     "duration": 0.025997,
     "end_time": "2023-02-19T14:33:10.202979",
     "exception": false,
     "start_time": "2023-02-19T14:33:10.176982",
     "status": "completed"
    },
    "tags": []
   },
   "outputs": [
    {
     "name": "stdout",
     "output_type": "stream",
     "text": [
      "Pregnancies   mean   3.8450520833333335    median   3.0\n",
      "Glucose   mean   120.89453125    median   117.0\n",
      "BloodPressure   mean   69.10546875    median   72.0\n",
      "SkinThickness   mean   20.536458333333332    median   23.0\n",
      "Insulin   mean   79.79947916666667    median   30.5\n",
      "BMI   mean   31.992578124999998    median   32.0\n",
      "DiabetesPedigreeFunction   mean   0.47187630208333325    median   0.3725\n",
      "Age   mean   33.240885416666664    median   29.0\n",
      "Outcome   mean   0.3489583333333333    median   0.0\n"
     ]
    }
   ],
   "source": [
    "for i in df.columns:\n",
    "    print(i,'  mean  ',df[i].mean(), '   median  ',  df[i].median())"
   ]
  },
  {
   "cell_type": "code",
   "execution_count": 59,
   "id": "225fb5e6",
   "metadata": {
    "execution": {
     "iopub.execute_input": "2023-02-19T14:33:10.226245Z",
     "iopub.status.busy": "2023-02-19T14:33:10.225311Z",
     "iopub.status.idle": "2023-02-19T14:33:10.231687Z",
     "shell.execute_reply": "2023-02-19T14:33:10.230741Z"
    },
    "papermill": {
     "duration": 0.020242,
     "end_time": "2023-02-19T14:33:10.233950",
     "exception": false,
     "start_time": "2023-02-19T14:33:10.213708",
     "status": "completed"
    },
    "tags": []
   },
   "outputs": [
    {
     "data": {
      "text/plain": [
       "Index(['Pregnancies', 'Glucose', 'BloodPressure', 'SkinThickness', 'Insulin',\n",
       "       'BMI', 'DiabetesPedigreeFunction', 'Age', 'Outcome'],\n",
       "      dtype='object')"
      ]
     },
     "execution_count": 59,
     "metadata": {},
     "output_type": "execute_result"
    }
   ],
   "source": [
    "df.columns"
   ]
  },
  {
   "cell_type": "code",
   "execution_count": 60,
   "id": "f66482fa",
   "metadata": {
    "execution": {
     "iopub.execute_input": "2023-02-19T14:33:10.256086Z",
     "iopub.status.busy": "2023-02-19T14:33:10.255669Z",
     "iopub.status.idle": "2023-02-19T14:33:10.266831Z",
     "shell.execute_reply": "2023-02-19T14:33:10.265613Z"
    },
    "papermill": {
     "duration": 0.025439,
     "end_time": "2023-02-19T14:33:10.269676",
     "exception": false,
     "start_time": "2023-02-19T14:33:10.244237",
     "status": "completed"
    },
    "tags": []
   },
   "outputs": [],
   "source": [
    "for i in ['Glucose', 'BloodPressure','Insulin','BMI']:\n",
    "    df[i] = df[i].replace({0.0:df[i].median()})"
   ]
  },
  {
   "cell_type": "code",
   "execution_count": 61,
   "id": "af32fe92",
   "metadata": {
    "execution": {
     "iopub.execute_input": "2023-02-19T14:33:10.291663Z",
     "iopub.status.busy": "2023-02-19T14:33:10.291234Z",
     "iopub.status.idle": "2023-02-19T14:33:10.334949Z",
     "shell.execute_reply": "2023-02-19T14:33:10.333709Z"
    },
    "papermill": {
     "duration": 0.05789,
     "end_time": "2023-02-19T14:33:10.337679",
     "exception": false,
     "start_time": "2023-02-19T14:33:10.279789",
     "status": "completed"
    },
    "tags": []
   },
   "outputs": [
    {
     "data": {
      "text/html": [
       "<div>\n",
       "<style scoped>\n",
       "    .dataframe tbody tr th:only-of-type {\n",
       "        vertical-align: middle;\n",
       "    }\n",
       "\n",
       "    .dataframe tbody tr th {\n",
       "        vertical-align: top;\n",
       "    }\n",
       "\n",
       "    .dataframe thead th {\n",
       "        text-align: right;\n",
       "    }\n",
       "</style>\n",
       "<table border=\"1\" class=\"dataframe\">\n",
       "  <thead>\n",
       "    <tr style=\"text-align: right;\">\n",
       "      <th></th>\n",
       "      <th>count</th>\n",
       "      <th>mean</th>\n",
       "      <th>std</th>\n",
       "      <th>min</th>\n",
       "      <th>25%</th>\n",
       "      <th>50%</th>\n",
       "      <th>75%</th>\n",
       "      <th>max</th>\n",
       "    </tr>\n",
       "  </thead>\n",
       "  <tbody>\n",
       "    <tr>\n",
       "      <th>Pregnancies</th>\n",
       "      <td>768.0</td>\n",
       "      <td>3.845052</td>\n",
       "      <td>3.369578</td>\n",
       "      <td>0.000</td>\n",
       "      <td>1.00000</td>\n",
       "      <td>3.0000</td>\n",
       "      <td>6.00000</td>\n",
       "      <td>17.00</td>\n",
       "    </tr>\n",
       "    <tr>\n",
       "      <th>Glucose</th>\n",
       "      <td>768.0</td>\n",
       "      <td>121.656250</td>\n",
       "      <td>30.438286</td>\n",
       "      <td>44.000</td>\n",
       "      <td>99.75000</td>\n",
       "      <td>117.0000</td>\n",
       "      <td>140.25000</td>\n",
       "      <td>199.00</td>\n",
       "    </tr>\n",
       "    <tr>\n",
       "      <th>BloodPressure</th>\n",
       "      <td>768.0</td>\n",
       "      <td>72.386719</td>\n",
       "      <td>12.096642</td>\n",
       "      <td>24.000</td>\n",
       "      <td>64.00000</td>\n",
       "      <td>72.0000</td>\n",
       "      <td>80.00000</td>\n",
       "      <td>122.00</td>\n",
       "    </tr>\n",
       "    <tr>\n",
       "      <th>SkinThickness</th>\n",
       "      <td>768.0</td>\n",
       "      <td>20.536458</td>\n",
       "      <td>15.952218</td>\n",
       "      <td>0.000</td>\n",
       "      <td>0.00000</td>\n",
       "      <td>23.0000</td>\n",
       "      <td>32.00000</td>\n",
       "      <td>99.00</td>\n",
       "    </tr>\n",
       "    <tr>\n",
       "      <th>Insulin</th>\n",
       "      <td>768.0</td>\n",
       "      <td>94.652344</td>\n",
       "      <td>105.547598</td>\n",
       "      <td>14.000</td>\n",
       "      <td>30.50000</td>\n",
       "      <td>31.2500</td>\n",
       "      <td>127.25000</td>\n",
       "      <td>846.00</td>\n",
       "    </tr>\n",
       "    <tr>\n",
       "      <th>BMI</th>\n",
       "      <td>768.0</td>\n",
       "      <td>32.450911</td>\n",
       "      <td>6.875366</td>\n",
       "      <td>18.200</td>\n",
       "      <td>27.50000</td>\n",
       "      <td>32.0000</td>\n",
       "      <td>36.60000</td>\n",
       "      <td>67.10</td>\n",
       "    </tr>\n",
       "    <tr>\n",
       "      <th>DiabetesPedigreeFunction</th>\n",
       "      <td>768.0</td>\n",
       "      <td>0.471876</td>\n",
       "      <td>0.331329</td>\n",
       "      <td>0.078</td>\n",
       "      <td>0.24375</td>\n",
       "      <td>0.3725</td>\n",
       "      <td>0.62625</td>\n",
       "      <td>2.42</td>\n",
       "    </tr>\n",
       "    <tr>\n",
       "      <th>Age</th>\n",
       "      <td>768.0</td>\n",
       "      <td>33.240885</td>\n",
       "      <td>11.760232</td>\n",
       "      <td>21.000</td>\n",
       "      <td>24.00000</td>\n",
       "      <td>29.0000</td>\n",
       "      <td>41.00000</td>\n",
       "      <td>81.00</td>\n",
       "    </tr>\n",
       "    <tr>\n",
       "      <th>Outcome</th>\n",
       "      <td>768.0</td>\n",
       "      <td>0.348958</td>\n",
       "      <td>0.476951</td>\n",
       "      <td>0.000</td>\n",
       "      <td>0.00000</td>\n",
       "      <td>0.0000</td>\n",
       "      <td>1.00000</td>\n",
       "      <td>1.00</td>\n",
       "    </tr>\n",
       "  </tbody>\n",
       "</table>\n",
       "</div>"
      ],
      "text/plain": [
       "                          count        mean         std     min       25%  \\\n",
       "Pregnancies               768.0    3.845052    3.369578   0.000   1.00000   \n",
       "Glucose                   768.0  121.656250   30.438286  44.000  99.75000   \n",
       "BloodPressure             768.0   72.386719   12.096642  24.000  64.00000   \n",
       "SkinThickness             768.0   20.536458   15.952218   0.000   0.00000   \n",
       "Insulin                   768.0   94.652344  105.547598  14.000  30.50000   \n",
       "BMI                       768.0   32.450911    6.875366  18.200  27.50000   \n",
       "DiabetesPedigreeFunction  768.0    0.471876    0.331329   0.078   0.24375   \n",
       "Age                       768.0   33.240885   11.760232  21.000  24.00000   \n",
       "Outcome                   768.0    0.348958    0.476951   0.000   0.00000   \n",
       "\n",
       "                               50%        75%     max  \n",
       "Pregnancies                 3.0000    6.00000   17.00  \n",
       "Glucose                   117.0000  140.25000  199.00  \n",
       "BloodPressure              72.0000   80.00000  122.00  \n",
       "SkinThickness              23.0000   32.00000   99.00  \n",
       "Insulin                    31.2500  127.25000  846.00  \n",
       "BMI                        32.0000   36.60000   67.10  \n",
       "DiabetesPedigreeFunction    0.3725    0.62625    2.42  \n",
       "Age                        29.0000   41.00000   81.00  \n",
       "Outcome                     0.0000    1.00000    1.00  "
      ]
     },
     "execution_count": 61,
     "metadata": {},
     "output_type": "execute_result"
    }
   ],
   "source": [
    "df.describe().T"
   ]
  },
  {
   "cell_type": "code",
   "execution_count": 62,
   "id": "baf6c5d0",
   "metadata": {
    "execution": {
     "iopub.execute_input": "2023-02-19T14:33:10.360552Z",
     "iopub.status.busy": "2023-02-19T14:33:10.360101Z",
     "iopub.status.idle": "2023-02-19T14:33:11.003898Z",
     "shell.execute_reply": "2023-02-19T14:33:11.002480Z"
    },
    "papermill": {
     "duration": 0.658966,
     "end_time": "2023-02-19T14:33:11.007026",
     "exception": false,
     "start_time": "2023-02-19T14:33:10.348060",
     "status": "completed"
    },
    "tags": []
   },
   "outputs": [
    {
     "data": {
      "image/png": "[encoded data removed]",
      "text/plain": [
       "<Figure size 640x480 with 2 Axes>"
      ]
     },
     "metadata": {},
     "output_type": "display_data"
    }
   ],
   "source": [
    "sns.heatmap(df.corr(),annot=True);"
   ]
  },
  {
   "cell_type": "code",
   "execution_count": 63,
   "id": "7f3300d9",
   "metadata": {
    "execution": {
     "iopub.execute_input": "2023-02-19T14:33:11.032470Z",
     "iopub.status.busy": "2023-02-19T14:33:11.031288Z",
     "iopub.status.idle": "2023-02-19T14:33:11.038947Z",
     "shell.execute_reply": "2023-02-19T14:33:11.037622Z"
    },
    "papermill": {
     "duration": 0.023228,
     "end_time": "2023-02-19T14:33:11.042015",
     "exception": false,
     "start_time": "2023-02-19T14:33:11.018787",
     "status": "completed"
    },
    "tags": []
   },
   "outputs": [],
   "source": [
    "x = df.drop(columns = ['Outcome'])\n",
    "y = df.Outcome"
   ]
  },
  {
   "cell_type": "code",
   "execution_count": 64,
   "id": "466b7eb4",
   "metadata": {
    "execution": {
     "iopub.execute_input": "2023-02-19T14:33:11.066922Z",
     "iopub.status.busy": "2023-02-19T14:33:11.066517Z",
     "iopub.status.idle": "2023-02-19T14:33:11.089536Z",
     "shell.execute_reply": "2023-02-19T14:33:11.088285Z"
    },
    "papermill": {
     "duration": 0.03846,
     "end_time": "2023-02-19T14:33:11.092017",
     "exception": false,
     "start_time": "2023-02-19T14:33:11.053557",
     "status": "completed"
    },
    "tags": []
   },
   "outputs": [
    {
     "data": {
      "text/html": [
       "<div>\n",
       "<style scoped>\n",
       "    .dataframe tbody tr th:only-of-type {\n",
       "        vertical-align: middle;\n",
       "    }\n",
       "\n",
       "    .dataframe tbody tr th {\n",
       "        vertical-align: top;\n",
       "    }\n",
       "\n",
       "    .dataframe thead th {\n",
       "        text-align: right;\n",
       "    }\n",
       "</style>\n",
       "<table border=\"1\" class=\"dataframe\">\n",
       "  <thead>\n",
       "    <tr style=\"text-align: right;\">\n",
       "      <th></th>\n",
       "      <th>Pregnancies</th>\n",
       "      <th>Glucose</th>\n",
       "      <th>BloodPressure</th>\n",
       "      <th>SkinThickness</th>\n",
       "      <th>Insulin</th>\n",
       "      <th>BMI</th>\n",
       "      <th>DiabetesPedigreeFunction</th>\n",
       "      <th>Age</th>\n",
       "    </tr>\n",
       "  </thead>\n",
       "  <tbody>\n",
       "    <tr>\n",
       "      <th>0</th>\n",
       "      <td>6</td>\n",
       "      <td>148</td>\n",
       "      <td>72</td>\n",
       "      <td>35</td>\n",
       "      <td>30.5</td>\n",
       "      <td>33.6</td>\n",
       "      <td>0.627</td>\n",
       "      <td>50</td>\n",
       "    </tr>\n",
       "    <tr>\n",
       "      <th>1</th>\n",
       "      <td>1</td>\n",
       "      <td>85</td>\n",
       "      <td>66</td>\n",
       "      <td>29</td>\n",
       "      <td>30.5</td>\n",
       "      <td>26.6</td>\n",
       "      <td>0.351</td>\n",
       "      <td>31</td>\n",
       "    </tr>\n",
       "    <tr>\n",
       "      <th>2</th>\n",
       "      <td>8</td>\n",
       "      <td>183</td>\n",
       "      <td>64</td>\n",
       "      <td>0</td>\n",
       "      <td>30.5</td>\n",
       "      <td>23.3</td>\n",
       "      <td>0.672</td>\n",
       "      <td>32</td>\n",
       "    </tr>\n",
       "    <tr>\n",
       "      <th>3</th>\n",
       "      <td>1</td>\n",
       "      <td>89</td>\n",
       "      <td>66</td>\n",
       "      <td>23</td>\n",
       "      <td>94.0</td>\n",
       "      <td>28.1</td>\n",
       "      <td>0.167</td>\n",
       "      <td>21</td>\n",
       "    </tr>\n",
       "    <tr>\n",
       "      <th>4</th>\n",
       "      <td>0</td>\n",
       "      <td>137</td>\n",
       "      <td>40</td>\n",
       "      <td>35</td>\n",
       "      <td>168.0</td>\n",
       "      <td>43.1</td>\n",
       "      <td>2.288</td>\n",
       "      <td>33</td>\n",
       "    </tr>\n",
       "    <tr>\n",
       "      <th>...</th>\n",
       "      <td>...</td>\n",
       "      <td>...</td>\n",
       "      <td>...</td>\n",
       "      <td>...</td>\n",
       "      <td>...</td>\n",
       "      <td>...</td>\n",
       "      <td>...</td>\n",
       "      <td>...</td>\n",
       "    </tr>\n",
       "    <tr>\n",
       "      <th>763</th>\n",
       "      <td>10</td>\n",
       "      <td>101</td>\n",
       "      <td>76</td>\n",
       "      <td>48</td>\n",
       "      <td>180.0</td>\n",
       "      <td>32.9</td>\n",
       "      <td>0.171</td>\n",
       "      <td>63</td>\n",
       "    </tr>\n",
       "    <tr>\n",
       "      <th>764</th>\n",
       "      <td>2</td>\n",
       "      <td>122</td>\n",
       "      <td>70</td>\n",
       "      <td>27</td>\n",
       "      <td>30.5</td>\n",
       "      <td>36.8</td>\n",
       "      <td>0.340</td>\n",
       "      <td>27</td>\n",
       "    </tr>\n",
       "    <tr>\n",
       "      <th>765</th>\n",
       "      <td>5</td>\n",
       "      <td>121</td>\n",
       "      <td>72</td>\n",
       "      <td>23</td>\n",
       "      <td>112.0</td>\n",
       "      <td>26.2</td>\n",
       "      <td>0.245</td>\n",
       "      <td>30</td>\n",
       "    </tr>\n",
       "    <tr>\n",
       "      <th>766</th>\n",
       "      <td>1</td>\n",
       "      <td>126</td>\n",
       "      <td>60</td>\n",
       "      <td>0</td>\n",
       "      <td>30.5</td>\n",
       "      <td>30.1</td>\n",
       "      <td>0.349</td>\n",
       "      <td>47</td>\n",
       "    </tr>\n",
       "    <tr>\n",
       "      <th>767</th>\n",
       "      <td>1</td>\n",
       "      <td>93</td>\n",
       "      <td>70</td>\n",
       "      <td>31</td>\n",
       "      <td>30.5</td>\n",
       "      <td>30.4</td>\n",
       "      <td>0.315</td>\n",
       "      <td>23</td>\n",
       "    </tr>\n",
       "  </tbody>\n",
       "</table>\n",
       "<p>768 rows × 8 columns</p>\n",
       "</div>"
      ],
      "text/plain": [
       "     Pregnancies  Glucose  BloodPressure  SkinThickness  Insulin   BMI  \\\n",
       "0              6      148             72             35     30.5  33.6   \n",
       "1              1       85             66             29     30.5  26.6   \n",
       "2              8      183             64              0     30.5  23.3   \n",
       "3              1       89             66             23     94.0  28.1   \n",
       "4              0      137             40             35    168.0  43.1   \n",
       "..           ...      ...            ...            ...      ...   ...   \n",
       "763           10      101             76             48    180.0  32.9   \n",
       "764            2      122             70             27     30.5  36.8   \n",
       "765            5      121             72             23    112.0  26.2   \n",
       "766            1      126             60              0     30.5  30.1   \n",
       "767            1       93             70             31     30.5  30.4   \n",
       "\n",
       "     DiabetesPedigreeFunction  Age  \n",
       "0                       0.627   50  \n",
       "1                       0.351   31  \n",
       "2                       0.672   32  \n",
       "3                       0.167   21  \n",
       "4                       2.288   33  \n",
       "..                        ...  ...  \n",
       "763                     0.171   63  \n",
       "764                     0.340   27  \n",
       "765                     0.245   30  \n",
       "766                     0.349   47  \n",
       "767                     0.315   23  \n",
       "\n",
       "[768 rows x 8 columns]"
      ]
     },
     "execution_count": 64,
     "metadata": {},
     "output_type": "execute_result"
    }
   ],
   "source": [
    "x"
   ]
  },
  {
   "cell_type": "code",
   "execution_count": 65,
   "id": "c2721c1a",
   "metadata": {
    "execution": {
     "iopub.execute_input": "2023-02-19T14:33:11.117362Z",
     "iopub.status.busy": "2023-02-19T14:33:11.116902Z",
     "iopub.status.idle": "2023-02-19T14:33:11.126696Z",
     "shell.execute_reply": "2023-02-19T14:33:11.125181Z"
    },
    "papermill": {
     "duration": 0.025785,
     "end_time": "2023-02-19T14:33:11.129600",
     "exception": false,
     "start_time": "2023-02-19T14:33:11.103815",
     "status": "completed"
    },
    "tags": []
   },
   "outputs": [
    {
     "data": {
      "text/plain": [
       "0      1\n",
       "1      0\n",
       "2      1\n",
       "3      0\n",
       "4      1\n",
       "      ..\n",
       "763    0\n",
       "764    0\n",
       "765    0\n",
       "766    1\n",
       "767    0\n",
       "Name: Outcome, Length: 768, dtype: int64"
      ]
     },
     "execution_count": 65,
     "metadata": {},
     "output_type": "execute_result"
    }
   ],
   "source": [
    "y"
   ]
  },
  {
   "cell_type": "code",
   "execution_count": 66,
   "id": "9c2c195f",
   "metadata": {
    "execution": {
     "iopub.execute_input": "2023-02-19T14:33:11.157019Z",
     "iopub.status.busy": "2023-02-19T14:33:11.156591Z",
     "iopub.status.idle": "2023-02-19T14:33:11.409008Z",
     "shell.execute_reply": "2023-02-19T14:33:11.407784Z"
    },
    "papermill": {
     "duration": 0.269373,
     "end_time": "2023-02-19T14:33:11.411770",
     "exception": false,
     "start_time": "2023-02-19T14:33:11.142397",
     "status": "completed"
    },
    "tags": []
   },
   "outputs": [],
   "source": [
    "from sklearn.model_selection import train_test_split"
   ]
  },
  {
   "cell_type": "code",
   "execution_count": 67,
   "id": "7aa4cca7",
   "metadata": {
    "execution": {
     "iopub.execute_input": "2023-02-19T14:33:11.438792Z",
     "iopub.status.busy": "2023-02-19T14:33:11.438277Z",
     "iopub.status.idle": "2023-02-19T14:33:11.446851Z",
     "shell.execute_reply": "2023-02-19T14:33:11.445691Z"
    },
    "papermill": {
     "duration": 0.025276,
     "end_time": "2023-02-19T14:33:11.449800",
     "exception": false,
     "start_time": "2023-02-19T14:33:11.424524",
     "status": "completed"
    },
    "tags": []
   },
   "outputs": [],
   "source": [
    "x_train,x_test,y_train,y_test = train_test_split(x,y,test_size=0.10,random_state=123)"
   ]
  },
  {
   "cell_type": "code",
   "execution_count": 68,
   "id": "7d13998e",
   "metadata": {
    "execution": {
     "iopub.execute_input": "2023-02-19T14:33:11.477327Z",
     "iopub.status.busy": "2023-02-19T14:33:11.476835Z",
     "iopub.status.idle": "2023-02-19T14:33:11.484230Z",
     "shell.execute_reply": "2023-02-19T14:33:11.483043Z"
    },
    "papermill": {
     "duration": 0.0244,
     "end_time": "2023-02-19T14:33:11.486812",
     "exception": false,
     "start_time": "2023-02-19T14:33:11.462412",
     "status": "completed"
    },
    "tags": []
   },
   "outputs": [
    {
     "data": {
      "text/plain": [
       "(691, 8)"
      ]
     },
     "execution_count": 68,
     "metadata": {},
     "output_type": "execute_result"
    }
   ],
   "source": [
    "x_train.shape"
   ]
  },
  {
   "cell_type": "code",
   "execution_count": 69,
   "id": "f03d6b4a",
   "metadata": {},
   "outputs": [
    {
     "name": "stdout",
     "output_type": "stream",
     "text": [
      "Support Vector Machine (SVM) Results:\n",
      "Accuracy: 0.7662337662337663\n",
      "Confusion Matrix:\n",
      " [[45  2]\n",
      " [16 14]]\n"
     ]
    }
   ],
   "source": [
    "from sklearn.svm import SVC\n",
    "#from sklearn.metrics import accuracy_score\n",
    "from sklearn.metrics import accuracy_score,confusion_matrix\n",
    "\n",
    "\n",
    "\n",
    "svm = SVC()\n",
    "\n",
    "\n",
    "svm.fit(x_train, y_train)\n",
    "\n",
    "\n",
    "y_pred_svm = svm.predict(x_test)\n",
    "\n",
    "\n",
    "accuracy_svm = accuracy_score(y_test, y_pred_svm)\n",
    "confusion_matrix_svm = confusion_matrix(y_test, y_pred_svm)\n",
    "\n",
    "\n",
    "print(\"Support Vector Machine (SVM) Results:\")\n",
    "print(\"Accuracy:\", accuracy_svm)\n",
    "print(\"Confusion Matrix:\\n\", confusion_matrix_svm)\n"
   ]
  },
  {
   "cell_type": "code",
   "execution_count": 70,
   "id": "0a11fba6",
   "metadata": {},
   "outputs": [
    {
     "name": "stdout",
     "output_type": "stream",
     "text": [
      "K-Nearest Neighbors (KNN) Results:\n",
      "Accuracy: 0.8181818181818182\n",
      "Confusion Matrix:\n",
      " [[43  4]\n",
      " [10 20]]\n"
     ]
    }
   ],
   "source": [
    "from sklearn.neighbors import KNeighborsClassifier\n",
    "from sklearn.metrics import accuracy_score,confusion_matrix\n",
    "\n",
    "\n",
    "knn = KNeighborsClassifier()\n",
    "\n",
    "\n",
    "knn.fit(x_train, y_train)\n",
    "\n",
    "\n",
    "y_pred_knn = knn.predict(x_test)\n",
    "\n",
    "\n",
    "accuracy_knn = accuracy_score(y_test, y_pred_knn)\n",
    "confusion_matrix_knn = confusion_matrix(y_test, y_pred_knn)\n",
    "\n",
    "\n",
    "print(\"K-Nearest Neighbors (KNN) Results:\")\n",
    "print(\"Accuracy:\", accuracy_knn)\n",
    "print(\"Confusion Matrix:\\n\", confusion_matrix_knn)\n"
   ]
  },
  {
   "cell_type": "code",
   "execution_count": 71,
   "id": "26231839",
   "metadata": {},
   "outputs": [
    {
     "name": "stdout",
     "output_type": "stream",
     "text": [
      "Gradient Boosting Classifier Results:\n",
      "Accuracy: 0.7532467532467533\n",
      "Confusion Matrix:\n",
      " [[39  8]\n",
      " [11 19]]\n"
     ]
    }
   ],
   "source": [
    "from sklearn.ensemble import GradientBoostingClassifier\n",
    "gb_classifier = GradientBoostingClassifier()\n",
    "\n",
    "gb_classifier.fit(x_train, y_train)\n",
    "\n",
    "\n",
    "y_pred_gb = gb_classifier.predict(x_test)\n",
    "\n",
    "\n",
    "accuracy_gb = accuracy_score(y_test, y_pred_gb)\n",
    "confusion_matrix_gb = confusion_matrix(y_test, y_pred_gb)\n",
    "\n",
    "\n",
    "print(\"Gradient Boosting Classifier Results:\")\n",
    "print(\"Accuracy:\", accuracy_gb)\n",
    "print(\"Confusion Matrix:\\n\", confusion_matrix_gb)\n"
   ]
  },
  {
   "cell_type": "code",
   "execution_count": 72,
   "id": "9e580999",
   "metadata": {},
   "outputs": [
    {
     "name": "stdout",
     "output_type": "stream",
     "text": [
      "Linear Regression:\n",
      "Mean Squared Error: 0.13217820384970289\n",
      "Linear Regression:\n",
      "Mean Absolute Error: 0.2884948025023266\n"
     ]
    }
   ],
   "source": [
    "from sklearn.linear_model import LinearRegression\n",
    "from sklearn.metrics import mean_squared_error\n",
    "from sklearn.metrics import mean_absolute_error\n",
    "\n",
    "# Example with Linear Regression\n",
    "linear_reg = LinearRegression()\n",
    "linear_reg.fit(x_train, y_train)\n",
    "y_pred_linear = linear_reg.predict(x_test)\n",
    "\n",
    "mse_linear = mean_squared_error(y_test, y_pred_linear)\n",
    "\n",
    "print(\"Linear Regression:\")\n",
    "print(\"Mean Squared Error:\", mse_linear)\n",
    "mae_linear = mean_absolute_error(y_test, y_pred_linear)\n",
    "\n",
    "print(\"Linear Regression:\")\n",
    "print(\"Mean Absolute Error:\", mae_linear)\n",
    "\n",
    "\n"
   ]
  },
  {
   "cell_type": "code",
   "execution_count": 73,
   "id": "53027b16",
   "metadata": {},
   "outputs": [
    {
     "name": "stdout",
     "output_type": "stream",
     "text": [
      "Ridge Regression:\n",
      "Mean Squared Error: 0.13211576505028175\n",
      "Mean Absolute Error: 0.28844248389601124\n"
     ]
    }
   ],
   "source": [
    "from sklearn.linear_model import Ridge\n",
    "from sklearn.metrics import mean_squared_error, mean_absolute_error\n",
    "\n",
    "ridge_reg = Ridge()\n",
    "\n",
    "ridge_reg.fit(x_train, y_train)\n",
    "\n",
    "y_pred_ridge = ridge_reg.predict(x_test)\n",
    "\n",
    "mse_ridge = mean_squared_error(y_test, y_pred_ridge)\n",
    "\n",
    "mae_ridge = mean_absolute_error(y_test, y_pred_ridge)\n",
    "#accuracy_gb = accuracy_score(y_test, y_pred_gb)\n",
    "#confusion_matrix_gb = confusion_matrix(y_test, y_pred_gb)\n",
    "\n",
    "\n",
    "print(\"Ridge Regression:\")\n",
    "print(\"Mean Squared Error:\", mse_ridge)\n",
    "print(\"Mean Absolute Error:\", mae_ridge)\n",
    "#print(accuracy_gb)\n",
    "\n",
    "\n"
   ]
  },
  {
   "cell_type": "code",
   "execution_count": 74,
   "id": "233cb707",
   "metadata": {},
   "outputs": [
    {
     "name": "stdout",
     "output_type": "stream",
     "text": [
      "Lasso Regression:\n",
      "Mean Squared Error: 0.16170216204325755\n",
      "Mean Absolute Error: 0.344791177757376\n"
     ]
    }
   ],
   "source": [
    "from sklearn.linear_model import Lasso\n",
    "from sklearn.metrics import mean_squared_error, mean_absolute_error\n",
    "lasso_reg = Lasso()\n",
    "\n",
    "lasso_reg.fit(x_train, y_train)\n",
    "\n",
    "y_pred_lasso = lasso_reg.predict(x_test)\n",
    "\n",
    "mse_lasso = mean_squared_error(y_test, y_pred_lasso)\n",
    "\n",
    "mae_lasso = mean_absolute_error(y_test, y_pred_lasso)\n",
    "\n",
    "print(\"Lasso Regression:\")\n",
    "print(\"Mean Squared Error:\", mse_lasso)\n",
    "print(\"Mean Absolute Error:\", mae_lasso)\n"
   ]
  },
  {
   "cell_type": "code",
   "execution_count": 75,
   "id": "4035b838",
   "metadata": {},
   "outputs": [
    {
     "name": "stdout",
     "output_type": "stream",
     "text": [
      "Decision Tree Regression:\n",
      "Mean Squared Error: 0.2597402597402597\n",
      "Mean Absolute Error: 0.2597402597402597\n"
     ]
    }
   ],
   "source": [
    "from sklearn.tree import DecisionTreeRegressor\n",
    "from sklearn.metrics import mean_squared_error, mean_absolute_error\n",
    "\n",
    "dt_reg = DecisionTreeRegressor()\n",
    "\n",
    "dt_reg.fit(x_train, y_train)\n",
    "\n",
    "y_pred_dt = dt_reg.predict(x_test)\n",
    "\n",
    "mse_dt = mean_squared_error(y_test, y_pred_dt)\n",
    "\n",
    "mae_dt = mean_absolute_error(y_test, y_pred_dt)\n",
    "\n",
    "print(\"Decision Tree Regression:\")\n",
    "print(\"Mean Squared Error:\", mse_dt)\n",
    "print(\"Mean Absolute Error:\", mae_dt)\n"
   ]
  },
  {
   "cell_type": "code",
   "execution_count": 76,
   "id": "27f5c195",
   "metadata": {},
   "outputs": [
    {
     "name": "stdout",
     "output_type": "stream",
     "text": [
      "Random Forest Regression:\n",
      "Mean Squared Error: 0.1525675324675325\n",
      "Mean Absolute Error: 0.284025974025974\n"
     ]
    }
   ],
   "source": [
    "from sklearn.ensemble import RandomForestRegressor\n",
    "from sklearn.metrics import mean_squared_error, mean_absolute_error\n",
    "\n",
    "rf_reg = RandomForestRegressor()\n",
    "\n",
    "rf_reg.fit(x_train, y_train)\n",
    "\n",
    "y_pred_rf = rf_reg.predict(x_test)\n",
    "\n",
    "mse_rf = mean_squared_error(y_test, y_pred_rf)\n",
    "\n",
    "mae_rf = mean_absolute_error(y_test, y_pred_rf)\n",
    "\n",
    "print(\"Random Forest Regression:\")\n",
    "print(\"Mean Squared Error:\", mse_rf)\n",
    "print(\"Mean Absolute Error:\", mae_rf)\n"
   ]
  },
  {
   "cell_type": "code",
   "execution_count": 77,
   "id": "eec11cc9",
   "metadata": {},
   "outputs": [
    {
     "name": "stdout",
     "output_type": "stream",
     "text": [
      "Support Vector Regression:\n",
      "Mean Squared Error: 0.15490786862483813\n",
      "Mean Absolute Error: 0.26892479568978667\n"
     ]
    }
   ],
   "source": [
    "from sklearn.svm import SVR\n",
    "from sklearn.metrics import mean_squared_error, mean_absolute_error\n",
    "\n",
    "svr_reg = SVR()\n",
    "\n",
    "svr_reg.fit(x_train, y_train)\n",
    "\n",
    "y_pred_svr = svr_reg.predict(x_test)\n",
    "\n",
    "mse_svr = mean_squared_error(y_test, y_pred_svr)\n",
    "\n",
    "mae_svr = mean_absolute_error(y_test, y_pred_svr)\n",
    "\n",
    "print(\"Support Vector Regression:\")\n",
    "print(\"Mean Squared Error:\", mse_svr)\n",
    "print(\"Mean Absolute Error:\", mae_svr)\n"
   ]
  },
  {
   "cell_type": "code",
   "execution_count": 78,
   "id": "0cb7f556",
   "metadata": {},
   "outputs": [
    {
     "name": "stdout",
     "output_type": "stream",
     "text": [
      "Gradient Boosting Regression:\n",
      "Mean Squared Error: 0.14708261317995588\n",
      "Mean Absolute Error: 0.28423680732907836\n"
     ]
    }
   ],
   "source": [
    "from sklearn.ensemble import GradientBoostingRegressor\n",
    "from sklearn.metrics import mean_squared_error, mean_absolute_error\n",
    "\n",
    "gb_reg = GradientBoostingRegressor()\n",
    "\n",
    "gb_reg.fit(x_train, y_train)\n",
    "\n",
    "y_pred_gb = gb_reg.predict(x_test)\n",
    "mse_gb = mean_squared_error(y_test, y_pred_gb)\n",
    "\n",
    "mae_gb = mean_absolute_error(y_test, y_pred_gb)\n",
    "\n",
    "print(\"Gradient Boosting Regression:\")\n",
    "print(\"Mean Squared Error:\", mse_gb)\n",
    "print(\"Mean Absolute Error:\", mae_gb)\n"
   ]
  },
  {
   "cell_type": "code",
   "execution_count": 79,
   "id": "41b3967e",
   "metadata": {
    "execution": {
     "iopub.execute_input": "2023-02-19T14:33:11.513192Z",
     "iopub.status.busy": "2023-02-19T14:33:11.512748Z",
     "iopub.status.idle": "2023-02-19T14:33:11.519579Z",
     "shell.execute_reply": "2023-02-19T14:33:11.518549Z"
    },
    "papermill": {
     "duration": 0.022482,
     "end_time": "2023-02-19T14:33:11.521775",
     "exception": false,
     "start_time": "2023-02-19T14:33:11.499293",
     "status": "completed"
    },
    "tags": []
   },
   "outputs": [
    {
     "data": {
      "text/plain": [
       "(691,)"
      ]
     },
     "execution_count": 79,
     "metadata": {},
     "output_type": "execute_result"
    }
   ],
   "source": [
    "y_train.shape"
   ]
  },
  {
   "cell_type": "code",
   "execution_count": 80,
   "id": "98ac1131",
   "metadata": {
    "execution": {
     "iopub.execute_input": "2023-02-19T14:33:11.548812Z",
     "iopub.status.busy": "2023-02-19T14:33:11.548330Z",
     "iopub.status.idle": "2023-02-19T14:33:11.555120Z",
     "shell.execute_reply": "2023-02-19T14:33:11.554235Z"
    },
    "papermill": {
     "duration": 0.022624,
     "end_time": "2023-02-19T14:33:11.557146",
     "exception": false,
     "start_time": "2023-02-19T14:33:11.534522",
     "status": "completed"
    },
    "tags": []
   },
   "outputs": [
    {
     "data": {
      "text/plain": [
       "(77, 8)"
      ]
     },
     "execution_count": 80,
     "metadata": {},
     "output_type": "execute_result"
    }
   ],
   "source": [
    "x_test.shape"
   ]
  },
  {
   "cell_type": "code",
   "execution_count": 81,
   "id": "797d8cac",
   "metadata": {},
   "outputs": [
    {
     "name": "stdout",
     "output_type": "stream",
     "text": [
      "<class 'pandas.core.frame.DataFrame'>\n"
     ]
    }
   ],
   "source": [
    "a=x_test.head()\n",
    "print(type(a))"
   ]
  },
  {
   "cell_type": "code",
   "execution_count": 82,
   "id": "3c4431d2",
   "metadata": {
    "execution": {
     "iopub.execute_input": "2023-02-19T14:33:11.583336Z",
     "iopub.status.busy": "2023-02-19T14:33:11.582857Z",
     "iopub.status.idle": "2023-02-19T14:33:11.589491Z",
     "shell.execute_reply": "2023-02-19T14:33:11.588284Z"
    },
    "papermill": {
     "duration": 0.022718,
     "end_time": "2023-02-19T14:33:11.591911",
     "exception": false,
     "start_time": "2023-02-19T14:33:11.569193",
     "status": "completed"
    },
    "tags": []
   },
   "outputs": [
    {
     "data": {
      "text/plain": [
       "(77,)"
      ]
     },
     "execution_count": 82,
     "metadata": {},
     "output_type": "execute_result"
    }
   ],
   "source": [
    "y_test.shape"
   ]
  },
  {
   "cell_type": "code",
   "execution_count": 83,
   "id": "fabf9159",
   "metadata": {
    "execution": {
     "iopub.execute_input": "2023-02-19T14:33:11.618271Z",
     "iopub.status.busy": "2023-02-19T14:33:11.617828Z",
     "iopub.status.idle": "2023-02-19T14:33:11.706675Z",
     "shell.execute_reply": "2023-02-19T14:33:11.705504Z"
    },
    "papermill": {
     "duration": 0.105372,
     "end_time": "2023-02-19T14:33:11.709558",
     "exception": false,
     "start_time": "2023-02-19T14:33:11.604186",
     "status": "completed"
    },
    "tags": []
   },
   "outputs": [],
   "source": [
    "from sklearn.linear_model import LogisticRegression"
   ]
  },
  {
   "cell_type": "code",
   "execution_count": 84,
   "id": "1ee73fa3",
   "metadata": {
    "execution": {
     "iopub.execute_input": "2023-02-19T14:33:11.736151Z",
     "iopub.status.busy": "2023-02-19T14:33:11.735743Z",
     "iopub.status.idle": "2023-02-19T14:33:11.741679Z",
     "shell.execute_reply": "2023-02-19T14:33:11.740263Z"
    },
    "papermill": {
     "duration": 0.022556,
     "end_time": "2023-02-19T14:33:11.744489",
     "exception": false,
     "start_time": "2023-02-19T14:33:11.721933",
     "status": "completed"
    },
    "tags": []
   },
   "outputs": [],
   "source": [
    "log_reg = LogisticRegression()"
   ]
  },
  {
   "cell_type": "code",
   "execution_count": 85,
   "id": "23b27993",
   "metadata": {
    "execution": {
     "iopub.execute_input": "2023-02-19T14:33:11.773579Z",
     "iopub.status.busy": "2023-02-19T14:33:11.773133Z",
     "iopub.status.idle": "2023-02-19T14:33:11.781354Z",
     "shell.execute_reply": "2023-02-19T14:33:11.780005Z"
    },
    "papermill": {
     "duration": 0.025031,
     "end_time": "2023-02-19T14:33:11.784091",
     "exception": false,
     "start_time": "2023-02-19T14:33:11.759060",
     "status": "completed"
    },
    "tags": []
   },
   "outputs": [
    {
     "data": {
      "text/html": [
       "<style>#sk-container-id-3 {color: black;background-color: white;}#sk-container-id-3 pre{padding: 0;}#sk-container-id-3 div.sk-toggleable {background-color: white;}#sk-container-id-3 label.sk-toggleable__label {cursor: pointer;display: block;width: 100%;margin-bottom: 0;padding: 0.3em;box-sizing: border-box;text-align: center;}#sk-container-id-3 label.sk-toggleable__label-arrow:before {content: \"▸\";float: left;margin-right: 0.25em;color: #696969;}#sk-container-id-3 label.sk-toggleable__label-arrow:hover:before {color: black;}#sk-container-id-3 div.sk-estimator:hover label.sk-toggleable__label-arrow:before {color: black;}#sk-container-id-3 div.sk-toggleable__content {max-height: 0;max-width: 0;overflow: hidden;text-align: left;background-color: #f0f8ff;}#sk-container-id-3 div.sk-toggleable__content pre {margin: 0.2em;color: black;border-radius: 0.25em;background-color: #f0f8ff;}#sk-container-id-3 input.sk-toggleable__control:checked~div.sk-toggleable__content {max-height: 200px;max-width: 100%;overflow: auto;}#sk-container-id-3 input.sk-toggleable__control:checked~label.sk-toggleable__label-arrow:before {content: \"▾\";}#sk-container-id-3 div.sk-estimator input.sk-toggleable__control:checked~label.sk-toggleable__label {background-color: #d4ebff;}#sk-container-id-3 div.sk-label input.sk-toggleable__control:checked~label.sk-toggleable__label {background-color: #d4ebff;}#sk-container-id-3 input.sk-hidden--visually {border: 0;clip: rect(1px 1px 1px 1px);clip: rect(1px, 1px, 1px, 1px);height: 1px;margin: -1px;overflow: hidden;padding: 0;position: absolute;width: 1px;}#sk-container-id-3 div.sk-estimator {font-family: monospace;background-color: #f0f8ff;border: 1px dotted black;border-radius: 0.25em;box-sizing: border-box;margin-bottom: 0.5em;}#sk-container-id-3 div.sk-estimator:hover {background-color: #d4ebff;}#sk-container-id-3 div.sk-parallel-item::after {content: \"\";width: 100%;border-bottom: 1px solid gray;flex-grow: 1;}#sk-container-id-3 div.sk-label:hover label.sk-toggleable__label {background-color: #d4ebff;}#sk-container-id-3 div.sk-serial::before {content: \"\";position: absolute;border-left: 1px solid gray;box-sizing: border-box;top: 0;bottom: 0;left: 50%;z-index: 0;}#sk-container-id-3 div.sk-serial {display: flex;flex-direction: column;align-items: center;background-color: white;padding-right: 0.2em;padding-left: 0.2em;position: relative;}#sk-container-id-3 div.sk-item {position: relative;z-index: 1;}#sk-container-id-3 div.sk-parallel {display: flex;align-items: stretch;justify-content: center;background-color: white;position: relative;}#sk-container-id-3 div.sk-item::before, #sk-container-id-3 div.sk-parallel-item::before {content: \"\";position: absolute;border-left: 1px solid gray;box-sizing: border-box;top: 0;bottom: 0;left: 50%;z-index: -1;}#sk-container-id-3 div.sk-parallel-item {display: flex;flex-direction: column;z-index: 1;position: relative;background-color: white;}#sk-container-id-3 div.sk-parallel-item:first-child::after {align-self: flex-end;width: 50%;}#sk-container-id-3 div.sk-parallel-item:last-child::after {align-self: flex-start;width: 50%;}#sk-container-id-3 div.sk-parallel-item:only-child::after {width: 0;}#sk-container-id-3 div.sk-dashed-wrapped {border: 1px dashed gray;margin: 0 0.4em 0.5em 0.4em;box-sizing: border-box;padding-bottom: 0.4em;background-color: white;}#sk-container-id-3 div.sk-label label {font-family: monospace;font-weight: bold;display: inline-block;line-height: 1.2em;}#sk-container-id-3 div.sk-label-container {text-align: center;}#sk-container-id-3 div.sk-container {/* jupyter's `normalize.less` sets `[hidden] { display: none; }` but bootstrap.min.css set `[hidden] { display: none !important; }` so we also need the `!important` here to be able to override the default hidden behavior on the sphinx rendered scikit-learn.org. See: https://github.com/scikit-learn/scikit-learn/issues/21755 */display: inline-block !important;position: relative;}#sk-container-id-3 div.sk-text-repr-fallback {display: none;}</style><div id=\"sk-container-id-3\" class=\"sk-top-container\"><div class=\"sk-text-repr-fallback\"><pre>LogisticRegression()</pre><b>In a Jupyter environment, please rerun this cell to show the HTML representation or trust the notebook. <br />On GitHub, the HTML representation is unable to render, please try loading this page with nbviewer.org.</b></div><div class=\"sk-container\" hidden><div class=\"sk-item\"><div class=\"sk-estimator sk-toggleable\"><input class=\"sk-toggleable__control sk-hidden--visually\" id=\"sk-estimator-id-3\" type=\"checkbox\" checked><label for=\"sk-estimator-id-3\" class=\"sk-toggleable__label sk-toggleable__label-arrow\">LogisticRegression</label><div class=\"sk-toggleable__content\"><pre>LogisticRegression()</pre></div></div></div></div></div>"
      ],
      "text/plain": [
       "LogisticRegression()"
      ]
     },
     "execution_count": 85,
     "metadata": {},
     "output_type": "execute_result"
    }
   ],
   "source": [
    "log_reg"
   ]
  },
  {
   "cell_type": "code",
   "execution_count": 86,
   "id": "e4ad3489",
   "metadata": {
    "execution": {
     "iopub.execute_input": "2023-02-19T14:33:11.814394Z",
     "iopub.status.busy": "2023-02-19T14:33:11.813001Z",
     "iopub.status.idle": "2023-02-19T14:33:11.870947Z",
     "shell.execute_reply": "2023-02-19T14:33:11.869154Z"
    },
    "papermill": {
     "duration": 0.077391,
     "end_time": "2023-02-19T14:33:11.874355",
     "exception": false,
     "start_time": "2023-02-19T14:33:11.796964",
     "status": "completed"
    },
    "tags": []
   },
   "outputs": [
    {
     "name": "stderr",
     "output_type": "stream",
     "text": [
      "c:\\Users\\vanga\\AppData\\Local\\Programs\\Python\\Python310\\lib\\site-packages\\sklearn\\linear_model\\_logistic.py:458: ConvergenceWarning: lbfgs failed to converge (status=1):\n",
      "STOP: TOTAL NO. of ITERATIONS REACHED LIMIT.\n",
      "\n",
      "Increase the number of iterations (max_iter) or scale the data as shown in:\n",
      "    https://scikit-learn.org/stable/modules/preprocessing.html\n",
      "Please also refer to the documentation for alternative solver options:\n",
      "    https://scikit-learn.org/stable/modules/linear_model.html#logistic-regression\n",
      "  n_iter_i = _check_optimize_result(\n"
     ]
    },
    {
     "data": {
      "text/html": [
       "<style>#sk-container-id-4 {color: black;background-color: white;}#sk-container-id-4 pre{padding: 0;}#sk-container-id-4 div.sk-toggleable {background-color: white;}#sk-container-id-4 label.sk-toggleable__label {cursor: pointer;display: block;width: 100%;margin-bottom: 0;padding: 0.3em;box-sizing: border-box;text-align: center;}#sk-container-id-4 label.sk-toggleable__label-arrow:before {content: \"▸\";float: left;margin-right: 0.25em;color: #696969;}#sk-container-id-4 label.sk-toggleable__label-arrow:hover:before {color: black;}#sk-container-id-4 div.sk-estimator:hover label.sk-toggleable__label-arrow:before {color: black;}#sk-container-id-4 div.sk-toggleable__content {max-height: 0;max-width: 0;overflow: hidden;text-align: left;background-color: #f0f8ff;}#sk-container-id-4 div.sk-toggleable__content pre {margin: 0.2em;color: black;border-radius: 0.25em;background-color: #f0f8ff;}#sk-container-id-4 input.sk-toggleable__control:checked~div.sk-toggleable__content {max-height: 200px;max-width: 100%;overflow: auto;}#sk-container-id-4 input.sk-toggleable__control:checked~label.sk-toggleable__label-arrow:before {content: \"▾\";}#sk-container-id-4 div.sk-estimator input.sk-toggleable__control:checked~label.sk-toggleable__label {background-color: #d4ebff;}#sk-container-id-4 div.sk-label input.sk-toggleable__control:checked~label.sk-toggleable__label {background-color: #d4ebff;}#sk-container-id-4 input.sk-hidden--visually {border: 0;clip: rect(1px 1px 1px 1px);clip: rect(1px, 1px, 1px, 1px);height: 1px;margin: -1px;overflow: hidden;padding: 0;position: absolute;width: 1px;}#sk-container-id-4 div.sk-estimator {font-family: monospace;background-color: #f0f8ff;border: 1px dotted black;border-radius: 0.25em;box-sizing: border-box;margin-bottom: 0.5em;}#sk-container-id-4 div.sk-estimator:hover {background-color: #d4ebff;}#sk-container-id-4 div.sk-parallel-item::after {content: \"\";width: 100%;border-bottom: 1px solid gray;flex-grow: 1;}#sk-container-id-4 div.sk-label:hover label.sk-toggleable__label {background-color: #d4ebff;}#sk-container-id-4 div.sk-serial::before {content: \"\";position: absolute;border-left: 1px solid gray;box-sizing: border-box;top: 0;bottom: 0;left: 50%;z-index: 0;}#sk-container-id-4 div.sk-serial {display: flex;flex-direction: column;align-items: center;background-color: white;padding-right: 0.2em;padding-left: 0.2em;position: relative;}#sk-container-id-4 div.sk-item {position: relative;z-index: 1;}#sk-container-id-4 div.sk-parallel {display: flex;align-items: stretch;justify-content: center;background-color: white;position: relative;}#sk-container-id-4 div.sk-item::before, #sk-container-id-4 div.sk-parallel-item::before {content: \"\";position: absolute;border-left: 1px solid gray;box-sizing: border-box;top: 0;bottom: 0;left: 50%;z-index: -1;}#sk-container-id-4 div.sk-parallel-item {display: flex;flex-direction: column;z-index: 1;position: relative;background-color: white;}#sk-container-id-4 div.sk-parallel-item:first-child::after {align-self: flex-end;width: 50%;}#sk-container-id-4 div.sk-parallel-item:last-child::after {align-self: flex-start;width: 50%;}#sk-container-id-4 div.sk-parallel-item:only-child::after {width: 0;}#sk-container-id-4 div.sk-dashed-wrapped {border: 1px dashed gray;margin: 0 0.4em 0.5em 0.4em;box-sizing: border-box;padding-bottom: 0.4em;background-color: white;}#sk-container-id-4 div.sk-label label {font-family: monospace;font-weight: bold;display: inline-block;line-height: 1.2em;}#sk-container-id-4 div.sk-label-container {text-align: center;}#sk-container-id-4 div.sk-container {/* jupyter's `normalize.less` sets `[hidden] { display: none; }` but bootstrap.min.css set `[hidden] { display: none !important; }` so we also need the `!important` here to be able to override the default hidden behavior on the sphinx rendered scikit-learn.org. See: https://github.com/scikit-learn/scikit-learn/issues/21755 */display: inline-block !important;position: relative;}#sk-container-id-4 div.sk-text-repr-fallback {display: none;}</style><div id=\"sk-container-id-4\" class=\"sk-top-container\"><div class=\"sk-text-repr-fallback\"><pre>LogisticRegression()</pre><b>In a Jupyter environment, please rerun this cell to show the HTML representation or trust the notebook. <br />On GitHub, the HTML representation is unable to render, please try loading this page with nbviewer.org.</b></div><div class=\"sk-container\" hidden><div class=\"sk-item\"><div class=\"sk-estimator sk-toggleable\"><input class=\"sk-toggleable__control sk-hidden--visually\" id=\"sk-estimator-id-4\" type=\"checkbox\" checked><label for=\"sk-estimator-id-4\" class=\"sk-toggleable__label sk-toggleable__label-arrow\">LogisticRegression</label><div class=\"sk-toggleable__content\"><pre>LogisticRegression()</pre></div></div></div></div></div>"
      ],
      "text/plain": [
       "LogisticRegression()"
      ]
     },
     "execution_count": 86,
     "metadata": {},
     "output_type": "execute_result"
    }
   ],
   "source": [
    "log_reg.fit(x_train,y_train)"
   ]
  },
  {
   "cell_type": "code",
   "execution_count": 87,
   "id": "10139e2e",
   "metadata": {
    "execution": {
     "iopub.execute_input": "2023-02-19T14:33:11.902533Z",
     "iopub.status.busy": "2023-02-19T14:33:11.902070Z",
     "iopub.status.idle": "2023-02-19T14:33:11.911930Z",
     "shell.execute_reply": "2023-02-19T14:33:11.910766Z"
    },
    "papermill": {
     "duration": 0.02667,
     "end_time": "2023-02-19T14:33:11.914305",
     "exception": false,
     "start_time": "2023-02-19T14:33:11.887635",
     "status": "completed"
    },
    "tags": []
   },
   "outputs": [
    {
     "data": {
      "text/plain": [
       "array([1, 1, 1, 0, 0, 1, 1, 0, 1, 0, 1, 0, 0, 0, 1, 0, 1, 0, 0, 0, 1, 0,\n",
       "       0, 1, 1, 0, 0, 0, 0, 1, 0, 0, 1, 0, 0, 1, 1, 0, 0, 0, 0, 0, 0, 1,\n",
       "       0, 0, 1, 0, 0, 0, 0, 0, 0, 0, 0, 0, 0, 1, 1, 0, 0, 0, 1, 0, 0, 0,\n",
       "       1, 0, 0, 0, 0, 0, 1, 0, 1, 0, 0], dtype=int64)"
      ]
     },
     "execution_count": 87,
     "metadata": {},
     "output_type": "execute_result"
    }
   ],
   "source": [
    "y_pred = log_reg.predict(x_test)\n",
    "y_pred"
   ]
  },
  {
   "cell_type": "code",
   "execution_count": 88,
   "id": "890a2eac",
   "metadata": {},
   "outputs": [
    {
     "data": {
      "text/plain": [
       "array([0], dtype=int64)"
      ]
     },
     "execution_count": 88,
     "metadata": {},
     "output_type": "execute_result"
    }
   ],
   "source": [
    "import pandas as pd\n",
    "data={\n",
    "    'Pregnancies':[5],\n",
    "    'Glucose':[100],\n",
    "    'BloodPressure':[86],\n",
    "    'SkinThickness':[30],\n",
    "    'Insulin':[100],\n",
    "    'BMI':[42],\n",
    "    'DiabetesPedigreeFunction':[0.627],\n",
    "    'Age':[30]\n",
    "}\n",
    "data1=pd.DataFrame(data)\n",
    "\n",
    "y_predy= log_reg.predict(data1)\n",
    "y_predy\n",
    "\n",
    "\n",
    "\n",
    "\n"
   ]
  },
  {
   "cell_type": "code",
   "execution_count": 89,
   "id": "9559eec7",
   "metadata": {
    "execution": {
     "iopub.execute_input": "2023-02-19T14:33:11.941846Z",
     "iopub.status.busy": "2023-02-19T14:33:11.941165Z",
     "iopub.status.idle": "2023-02-19T14:33:11.946694Z",
     "shell.execute_reply": "2023-02-19T14:33:11.945824Z"
    },
    "papermill": {
     "duration": 0.022044,
     "end_time": "2023-02-19T14:33:11.949091",
     "exception": false,
     "start_time": "2023-02-19T14:33:11.927047",
     "status": "completed"
    },
    "tags": []
   },
   "outputs": [],
   "source": [
    "from sklearn.metrics import accuracy_score, f1_score,confusion_matrix"
   ]
  },
  {
   "cell_type": "code",
   "execution_count": 90,
   "id": "50991c79",
   "metadata": {
    "execution": {
     "iopub.execute_input": "2023-02-19T14:33:11.977330Z",
     "iopub.status.busy": "2023-02-19T14:33:11.976640Z",
     "iopub.status.idle": "2023-02-19T14:33:11.989897Z",
     "shell.execute_reply": "2023-02-19T14:33:11.988587Z"
    },
    "papermill": {
     "duration": 0.030409,
     "end_time": "2023-02-19T14:33:11.992422",
     "exception": false,
     "start_time": "2023-02-19T14:33:11.962013",
     "status": "completed"
    },
    "tags": []
   },
   "outputs": [
    {
     "data": {
      "text/plain": [
       "array([[41,  6],\n",
       "       [12, 18]], dtype=int64)"
      ]
     },
     "execution_count": 90,
     "metadata": {},
     "output_type": "execute_result"
    }
   ],
   "source": [
    "confusion_matrix(y_test,y_pred)"
   ]
  },
  {
   "cell_type": "code",
   "execution_count": 91,
   "id": "cd7d381a",
   "metadata": {
    "execution": {
     "iopub.execute_input": "2023-02-19T14:33:12.020402Z",
     "iopub.status.busy": "2023-02-19T14:33:12.019959Z",
     "iopub.status.idle": "2023-02-19T14:33:12.028699Z",
     "shell.execute_reply": "2023-02-19T14:33:12.027493Z"
    },
    "papermill": {
     "duration": 0.025108,
     "end_time": "2023-02-19T14:33:12.030925",
     "exception": false,
     "start_time": "2023-02-19T14:33:12.005817",
     "status": "completed"
    },
    "tags": []
   },
   "outputs": [
    {
     "data": {
      "text/plain": [
       "0.7662337662337663"
      ]
     },
     "execution_count": 91,
     "metadata": {},
     "output_type": "execute_result"
    }
   ],
   "source": [
    "accuracy_score(y_test,y_pred)"
   ]
  },
  {
   "cell_type": "code",
   "execution_count": 92,
   "id": "40fa2b52",
   "metadata": {},
   "outputs": [
    {
     "name": "stdout",
     "output_type": "stream",
     "text": [
      "Random Forest Classifier Results:\n",
      "Accuracy: 0.7532467532467533\n",
      "Confusion Matrix:\n",
      " [[40  7]\n",
      " [12 18]]\n"
     ]
    }
   ],
   "source": [
    "from sklearn.ensemble import RandomForestClassifier\n",
    "\n",
    "\n",
    "rf = RandomForestClassifier()\n",
    "\n",
    "\n",
    "rf.fit(x_train, y_train)\n",
    "\n",
    "y_pred_rf = rf.predict(x_test)\n",
    "\n",
    "\n",
    "accuracy_rf = accuracy_score(y_test, y_pred_rf)\n",
    "confusion_matrix_rf = confusion_matrix(y_test, y_pred_rf)\n",
    "\n",
    "print(\"Random Forest Classifier Results:\")\n",
    "print(\"Accuracy:\", accuracy_rf)\n",
    "print(\"Confusion Matrix:\\n\", confusion_matrix_rf)\n"
   ]
  }
 ],
 "metadata": {
  "kernelspec": {
   "display_name": "Python 3",
   "language": "python",
   "name": "python3"
  },
  "language_info": {
   "codemirror_mode": {
    "name": "ipython",
    "version": 3
   },
   "file_extension": ".py",
   "mimetype": "text/x-python",
   "name": "python",
   "nbconvert_exporter": "python",
   "pygments_lexer": "ipython3",
   "version": "3.10.4"
  },
  "papermill": {
   "default_parameters": {},
   "duration": 16.142723,
   "end_time": "2023-02-19T14:33:12.866738",
   "environment_variables": {},
   "exception": null,
   "input_path": "__notebook__.ipynb",
   "output_path": "__notebook__.ipynb",
   "parameters": {},
   "start_time": "2023-02-19T14:32:56.724015",
   "version": "2.3.4"
  }
 },
 "nbformat": 4,
 "nbformat_minor": 5
}
